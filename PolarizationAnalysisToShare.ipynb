{
 "cells": [
  {
   "cell_type": "code",
   "execution_count": 1,
   "metadata": {},
   "outputs": [],
   "source": [
    "# Libraries\n",
    "import numpy as np\n",
    "import pandas as pd\n",
    "import seaborn as sns\n",
    "import matplotlib.pyplot as plt\n",
    "import statsmodels.api as sm\n",
    "import requests\n",
    "\n",
    "from scipy.optimize import minimize\n",
    "import scipy.stats as stats\n",
    "from statsmodels.base.model import GenericLikelihoodModel\n",
    "\n",
    "#-----------------------------------------------------------------------------------------------------------------------------\n",
    "#   IMPORTING THE DATA I WILL USE\n",
    "#-----------------------------------------------------------------------------------------------------------------------------\n",
    "\n",
    "# Dataframe containing how every representative voted in each rollcall.\n",
    "# I will focus (for now) just in the congress number 45.\n",
    "dtavotes = pd.read_csv('Hall_votes.csv')\n",
    "dtavotes = dtavotes[(dtavotes.congress == 45) & (dtavotes.rollnumber < 100)]\n",
    "\n",
    "# Dataframe containing data on political characteristics of the representative.\n",
    "# I will focus (for now) just in the congress number 45.\n",
    "dtamembers = pd.read_csv('HSall_members.csv')\n",
    "dtamembers = dtamembers[(dtamembers.congress == 45) & (dtamembers.chamber==\"House\")]\n",
    "dtamembers = dtamembers[['congress' , 'icpsr' , 'chamber' , 'party_code', 'nominate_dim1' , 'nominate_dim2' ]]\n",
    "\n",
    "# Merging votes andpolitical characteristics of representatives \n",
    "dtavotesandmembers = pd.merge(dtavotes, dtamembers, how=\"left\", on=['congress' , 'icpsr' , 'chamber'])\n",
    "\n",
    "# cast_code represent how did they vote for every rollcall. \n",
    "# I will create a variable named yeah if the representive voted in favor of the bill.\n",
    "dtavotesandmembers['yeah']=np.where(dtavotesandmembers.cast_code== 1 , True, False)\n",
    "dtavotesandmembers['yeah']=np.where(dtavotesandmembers.cast_code== 2 , True, dtavotesandmembers.yeah)\n",
    "dtavotesandmembers['yeah']=np.where(dtavotesandmembers.cast_code== 3 , True, dtavotesandmembers.yeah)"
   ]
  },
  {
   "cell_type": "code",
   "execution_count": 2,
   "metadata": {},
   "outputs": [
    {
     "name": "stderr",
     "output_type": "stream",
     "text": [
      "<ipython-input-2-264910cc73bd>:22: SettingWithCopyWarning: \n",
      "A value is trying to be set on a copy of a slice from a DataFrame.\n",
      "Try using .loc[row_indexer,col_indexer] = value instead\n",
      "\n",
      "See the caveats in the documentation: https://pandas.pydata.org/pandas-docs/stable/user_guide/indexing.html#returning-a-view-versus-a-copy\n",
      "  MEMBERSVAL['ideology']=0.5\n"
     ]
    }
   ],
   "source": [
    "#-----------------------------------------------------------------------------------------------------------------------------\n",
    "#   CANDIDATES AND ROLLCALL ideology\n",
    "#-----------------------------------------------------------------------------------------------------------------------------\n",
    "\n",
    "# Creating a dataframe containing the ideology of every candidate \n",
    "# per chamber (only low chamber for now) per congress(only 45 for now)\n",
    "MEMBERSVAL=dtamembers[['congress' , 'icpsr' , 'chamber']]\n",
    "\n",
    "# Creating a dataframe containing the ideology of every candidate \n",
    "# per chamber (only low chamber for now) per congress(only 45 for now)\n",
    "# In this dataframe, I start using a dataframe called \"dtavotes\", which \n",
    "# contain a higher dimmention (congress x rollcall x icpsr(representative) x chamber)\n",
    "# That´s why I drop duplicates\n",
    "VOTEYESVAL=dtavotes[['congress' , 'rollnumber' , 'chamber']]\n",
    "VOTEYESVAL=VOTEYESVAL.drop_duplicates()\n",
    "VOTENAHVAL=dtavotes[['congress' , 'rollnumber' , 'chamber']]\n",
    "VOTENAHVAL=VOTEYESVAL.drop_duplicates()\n",
    "\n",
    "\n",
    "# THESE ARE FAKE VALUES !!!!! the objective is come up with the right values in the optimization\n",
    "# I set this fake values because the program requirres to start in an arbitrary value.\n",
    "MEMBERSVAL['ideology']=0.5\n",
    "VOTEYESVAL['rollvalue']=0.3\n",
    "VOTENAHVAL['rollnovalue']=0.2\n"
   ]
  },
  {
   "cell_type": "markdown",
   "metadata": {},
   "source": [
    "**Optimization**\n",
    "\n",
    "Here I set, for each representative, a utility level that depend on her ieology and the ideology charge of the rollcall (value, from now on).\n",
    "\n",
    "The Utility function has the following expression: $U_{ij}=(\\rho_{j}-\\theta_{i})^{2} + \\epsilon_{ij}$\n",
    "\n",
    "The candidate will aprove the call with probability: \n",
    "$Pr((\\rho_{j}-\\theta_{i})^{2} + \\epsilon_{ij} > (v_{j}-\\theta_{i})^{2} + \\varepsilon_{ij})$\n",
    "$=Pr((\\rho_{j}-\\theta_{i})^{2} - (v_{j}-\\theta_{i})^{2} >  \\varepsilon_{ij}-\\epsilon_{ij})$\n",
    "\n",
    "So the Likelyhoof function should be:\n",
    "\n",
    "$\\prod_{i}^{I} \\prod_{t}^{T} \\phi((\\rho_{j}-\\theta_{i})^{2})^{Yes_{i}} (1-\\phi((\\rho_{j}-\\theta_{i})^{2}))^{1-Yes_{i}} $\n"
   ]
  },
  {
   "cell_type": "code",
   "execution_count": 3,
   "metadata": {
    "scrolled": true
   },
   "outputs": [],
   "source": [
    "\n",
    "def MLEutility(ideal, value, novalue):\n",
    "\n",
    "    # Plug the candidate parameters for ideology\n",
    "    for i in range(0,len(MEMBERSVAL)):\n",
    "        MEMBERSVAL.loc[ i , 'ideology' ] = ideal[0,i]\n",
    "\n",
    "    # Plug the candidate parameters for ideological value of voting yes\n",
    "    VOTEYESVAL=VOTEYESVAL.reset_index(drop=True)\n",
    "    for i in range(0,len(VOTEYESVAL)):\n",
    "        VOTEYESVAL.loc[ i , 'rollvalue' ] = value[0,i]\n",
    "    \n",
    "    # Plug the candidate parameters for ideological value of \"not voting yes\"\n",
    "    VOTENAHVAL=VOTENAHVAL.reset_index(drop=True)\n",
    "    for i in range(0,len(VOTENAHVAL)):\n",
    "        VOTENAHVAL.loc[ i , 'rollnovalue' ] = novalue[0,i]   \n",
    "    \n",
    "    # Create a dataframe (called dtavotesandmembers0) with the ideology scores\n",
    "    dtavotesandmembers2 = pd.merge(dtavotesandmembers, MEMBERSVAL, how=\"left\", on=['congress' , 'icpsr' , 'chamber'])\n",
    "    dtavotesandmembers3 = pd.merge(dtavotesandmembers2, VOTEYESVAL, how=\"left\", on=['congress' , 'rollnumber' , 'chamber'])\n",
    "    dtavotesandmembers0 = pd.merge(dtavotesandmembers3, VOTENAHVAL, how=\"left\", on=['congress' , 'rollnumber' , 'chamber'])\n",
    "    # Calculate Utility function\n",
    "    dtavotesandmembers0['Utility']=np.abs(dtavotesandmembers0.rollvalue-dtavotesandmembers0.ideology)**2-np.abs(dtavotesandmembers0.rollnovalue-dtavotesandmembers0.ideology)**2\n",
    "    # Calculating probability of voting yes or not given the parameters\n",
    "    dtavotesandmembers0['probyeah']=stats.norm.pdf(dtavotesandmembers0.Utility, loc=0, scale=1)\n",
    "    dtavotesandmembers0['probneah']=1-stats.norm.pdf(dtavotesandmembers0.Utility, loc=0, scale=1)\n",
    "    # Calculating (the negative value of) the log likelihood.\n",
    "    # Negative value because I am going to minimize it (instead of maximizinf LL)\n",
    "    dtavotesandmembers0['like']=(dtavotesandmembers0.probyeah*(dtavotesandmembers0.yeah)+dtavotesandmembers0.probneah*(1-dtavotesandmembers0.yeah))\n",
    "    dtavotesandmembers0['loglike']=np.log(dtavotesandmembers0.like)\n",
    "    negLL = -np.sum(dtavotesandmembers0.loglike)\n",
    "\n",
    "    return(negLL)\n",
    "\n"
   ]
  },
  {
   "cell_type": "code",
   "execution_count": 4,
   "metadata": {
    "scrolled": true
   },
   "outputs": [],
   "source": [
    "I = MEMBERSVAL['ideology']\n",
    "idealfirst = np.matrix(I, dtype=float)\n",
    "V = VOTEYESVAL['rollvalue']\n",
    "valuefirst = np.matrix(V, dtype=float)\n",
    "NV = VOTENAHVAL['rollnovalue']\n",
    "novaluefirst = np.matrix(NV, dtype=float)\n"
   ]
  },
  {
   "cell_type": "code",
   "execution_count": 5,
   "metadata": {
    "scrolled": true
   },
   "outputs": [
    {
     "ename": "TypeError",
     "evalue": "minimize() got multiple values for argument 'method'",
     "output_type": "error",
     "traceback": [
      "\u001b[1;31m---------------------------------------------------------------------------\u001b[0m",
      "\u001b[1;31mTypeError\u001b[0m                                 Traceback (most recent call last)",
      "\u001b[1;32m<ipython-input-5-32b3b5b9a154>\u001b[0m in \u001b[0;36m<module>\u001b[1;34m\u001b[0m\n\u001b[1;32m----> 1\u001b[1;33m \u001b[0mresults\u001b[0m \u001b[1;33m=\u001b[0m \u001b[0mminimize\u001b[0m\u001b[1;33m(\u001b[0m\u001b[0mMLEutility\u001b[0m\u001b[1;33m,\u001b[0m \u001b[0midealfirst\u001b[0m\u001b[1;33m,\u001b[0m \u001b[0mvaluefirst\u001b[0m\u001b[1;33m,\u001b[0m \u001b[0mnovaluefirst\u001b[0m \u001b[1;33m,\u001b[0m \u001b[0mmethod\u001b[0m \u001b[1;33m=\u001b[0m \u001b[1;34m'Nelder-Mead'\u001b[0m\u001b[1;33m,\u001b[0m \u001b[0moptions\u001b[0m\u001b[1;33m=\u001b[0m\u001b[1;33m{\u001b[0m\u001b[1;34m'disp'\u001b[0m\u001b[1;33m:\u001b[0m \u001b[1;32mTrue\u001b[0m\u001b[1;33m}\u001b[0m\u001b[1;33m)\u001b[0m\u001b[1;33m\u001b[0m\u001b[1;33m\u001b[0m\u001b[0m\n\u001b[0m",
      "\u001b[1;31mTypeError\u001b[0m: minimize() got multiple values for argument 'method'"
     ]
    }
   ],
   "source": [
    "results = minimize(MLEutility, idealfirst, valuefirst, novaluefirst , method = 'Nelder-Mead', options={'disp': True})"
   ]
  },
  {
   "cell_type": "markdown",
   "metadata": {},
   "source": [
    "**I get an error in this finnal part of the code!!!**"
   ]
  },
  {
   "cell_type": "code",
   "execution_count": null,
   "metadata": {},
   "outputs": [],
   "source": []
  }
 ],
 "metadata": {
  "kernelspec": {
   "display_name": "Python 3",
   "language": "python",
   "name": "python3"
  },
  "language_info": {
   "codemirror_mode": {
    "name": "ipython",
    "version": 3
   },
   "file_extension": ".py",
   "mimetype": "text/x-python",
   "name": "python",
   "nbconvert_exporter": "python",
   "pygments_lexer": "ipython3",
   "version": "3.8.3"
  }
 },
 "nbformat": 4,
 "nbformat_minor": 4
}
